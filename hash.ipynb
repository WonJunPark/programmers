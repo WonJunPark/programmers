{
  "nbformat": 4,
  "nbformat_minor": 0,
  "metadata": {
    "colab": {
      "name": "hash.ipynb",
      "provenance": [],
      "collapsed_sections": [],
      "toc_visible": true,
      "include_colab_link": true
    },
    "kernelspec": {
      "display_name": "Python 3",
      "name": "python3"
    }
  },
  "cells": [
    {
      "cell_type": "markdown",
      "metadata": {
        "id": "view-in-github",
        "colab_type": "text"
      },
      "source": [
        "<a href=\"https://colab.research.google.com/github/WonJunPark/programmers/blob/master/hash.ipynb\" target=\"_parent\"><img src=\"https://colab.research.google.com/assets/colab-badge.svg\" alt=\"Open In Colab\"/></a>"
      ]
    },
    {
      "cell_type": "markdown",
      "metadata": {
        "id": "UMTF7snBToCA",
        "colab_type": "text"
      },
      "source": [
        "Programmers - 해시 - 완주하지 못한 선수"
      ]
    },
    {
      "cell_type": "markdown",
      "metadata": {
        "id": "fUcPOFKUTjdP",
        "colab_type": "text"
      },
      "source": [
        "문제 설명\n",
        "\n",
        "수많은 마라톤 선수들이 마라톤에 참여하였습니다. 단 한 명의 선수를 제외하고는 모든 선수가 마라톤을 완주하였습니다.\n",
        "\n",
        "마라톤에 참여한 선수들의 이름이 담긴 배열 participant와 완주한 선수들의 이름이 담긴 배열 completion이 주어질 때, 완주하지 못한 선수의 이름을 return 하도록 solution 함수를 작성해주세요."
      ]
    },
    {
      "cell_type": "markdown",
      "metadata": {
        "id": "oNoOiKqaTvoc",
        "colab_type": "text"
      },
      "source": [
        "제한사항\n",
        "\n",
        "마라톤 경기에 참여한 선수의 수는 1명 이상 100,000명 이하입니다.\n",
        "completion의 길이는 participant의 길이보다 1 작습니다.\n",
        "참가자의 이름은 1개 이상 20개 이하의 알파벳 소문자로 이루어져 있습니다.\n",
        "참가자 중에는 동명이인이 있을 수 있습니다."
      ]
    },
    {
      "cell_type": "code",
      "metadata": {
        "id": "J87dSNWlTNa1",
        "colab_type": "code",
        "colab": {}
      },
      "source": [
        "def solution(p, c):\n",
        "    for i in c:\n",
        "        p.remove(i)\n",
        "    answer = p[0]\n",
        "    return answer"
      ],
      "execution_count": 0,
      "outputs": []
    },
    {
      "cell_type": "code",
      "metadata": {
        "id": "2VaAPLXYT_gg",
        "colab_type": "code",
        "outputId": "18d0647b-db23-4a9b-8cef-f6251075875d",
        "colab": {
          "base_uri": "https://localhost:8080/",
          "height": 35
        }
      },
      "source": [
        "p = ['leo', 'kiki', 'eden']\n",
        "c = ['eden', 'kiki']\n",
        "\n",
        "a = solution(p,c)\n",
        "print(a)"
      ],
      "execution_count": 0,
      "outputs": [
        {
          "output_type": "stream",
          "text": [
            "leo\n"
          ],
          "name": "stdout"
        }
      ]
    },
    {
      "cell_type": "markdown",
      "metadata": {
        "id": "0Mg6gUUfbVkY",
        "colab_type": "text"
      },
      "source": [
        "효율성 문제로 실패.. for문을 안쓰고 문제를 풀어보자"
      ]
    },
    {
      "cell_type": "code",
      "metadata": {
        "id": "XnPaIYuDban-",
        "colab_type": "code",
        "colab": {}
      },
      "source": [
        ""
      ],
      "execution_count": 0,
      "outputs": []
    }
  ]
}